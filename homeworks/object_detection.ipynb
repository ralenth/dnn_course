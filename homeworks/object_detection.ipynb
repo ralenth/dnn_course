{
 "cells": [
  {
   "cell_type": "markdown",
   "metadata": {
    "id": "6VBJpAMzglRo"
   },
   "source": [
    "# RetinaMNIST with rotations\n",
    "\n",
    "In this exercise your goal will be to solve an object detection training and prediction task using the anchor-based approach.\n",
    "**As a part of your solution you should provide a report summarizing your findings and results of the conducted experiments.**\n",
    "\n",
    "##TLDR; overview\n",
    "\n",
    "In this task one should:\n",
    "- determine the size of the feasible anchors for the object detection task posed in this Assignment,\n",
    "- build an object detection model using the variant of `RetinaNet`,\n",
    "- prepare a matching suite which will match predicted anchors with ground truth bounding boxes,\n",
    "- train an object detection model using a variant of `RetinaLoss`.\n",
    "\n",
    "Hints and comments:\n",
    "\n",
    "- Model architecture and loss are heavily inspired by [RetinaNet](https://arxiv.org/pdf/1708.02002.pdf) paper,\n",
    "- you can freely subclass and extend the interface of classes in this exercise,\n",
    "- be sure that you understand the concept of an anchor for object detection, covered during the lecture about Object Detection. There are many great tutorials and articles about it (e.g. [this](https://towardsdatascience.com/anchor-boxes-the-key-to-quality-object-detection-ddf9d612d4f9) one, note however that we are not implementing ignoring boxes for simplicity).\n",
    "\n",
    "### Data description\n",
    "\n",
    "In this task we will paste bounding boxes with digits **from 1 to 5** randomly selected from `MNIST` dataset on a canvas of size `(128, 128)` and **randomly flipped by 90 degrees**. We assume that:\n",
    "\n",
    "- the two boxes from a canvas should have no more than `0.1` of `iou` overlap,\n",
    "- the digits are fully contained in canvas,\n",
    "- boxes are modeled using `MnistBox` class,\n",
    "- canvas is modeled using `MnistCanvas` class.\n",
    "\n",
    "Let us have a look at definition of these classes:"
   ]
  },
  {
   "cell_type": "code",
   "execution_count": 1,
   "metadata": {
    "colab": {
     "base_uri": "https://localhost:8080/"
    },
    "id": "L1rAdIiRq2G8",
    "outputId": "532cd652-108c-4238-9abf-e154bdc81859"
   },
   "outputs": [],
   "source": [
    "from typing import List\n",
    "from typing import Optional\n",
    "from typing import Tuple\n",
    "\n",
    "import matplotlib.pyplot as plt\n",
    "import matplotlib.patches as patches\n",
    "import numpy as np\n",
    "import torch\n",
    "\n",
    "\n",
    "DEVICE = 'cpu'\n",
    "\n",
    "\n",
    "class MnistBox:\n",
    "\n",
    "    def __init__(\n",
    "        self,\n",
    "        x_min: int,\n",
    "        y_min: int,\n",
    "        x_max: int,\n",
    "        y_max: int,\n",
    "        class_nb: Optional[int] = None,\n",
    "        rotated: Optional[bool] = None,\n",
    "    ):\n",
    "        self.x_min = x_min\n",
    "        self.x_max = x_max\n",
    "        self.y_min = y_min\n",
    "        self.y_max = y_max\n",
    "        self.class_nb = class_nb\n",
    "        self.rotated = rotated\n",
    "    \n",
    "    @property\n",
    "    def x_diff(self):\n",
    "        return self.x_max - self.x_min\n",
    "    \n",
    "    @property\n",
    "    def y_diff(self):\n",
    "        return self.y_max - self.y_min\n",
    "\n",
    "    def __repr__(self):\n",
    "        return f'Mnist Box: x_min = {self.x_min},' +\\\n",
    "               f' x_max = {self.x_max}, y_min = {self.y_min},' +\\\n",
    "               f' y_max = {self.y_max}. Class = {self.class_nb}.' +\\\n",
    "               f' Rotated = {self.rotated}.'\n",
    "\n",
    "    def plot_on_ax(self, ax, color: Optional[str] = 'r'):\n",
    "        ax.add_patch(\n",
    "            patches.Rectangle(\n",
    "                (self.y_min, self.x_min),\n",
    "                 self.y_diff,\n",
    "                 self.x_diff,\n",
    "                 linewidth=1,\n",
    "                 edgecolor=color,\n",
    "                 facecolor='none',\n",
    "            )\n",
    "        )\n",
    "        ax.text(\n",
    "            self.y_min,\n",
    "            self.x_min,\n",
    "            f'{self.class_nb}' if not self.rotated else f'{self.class_nb}*',\n",
    "            bbox={\"facecolor\": color, \"alpha\": 0.4},\n",
    "            clip_box=ax.clipbox,\n",
    "            clip_on=True,\n",
    "        )\n",
    "\n",
    "    @property\n",
    "    def area(self):\n",
    "        return max((self.x_max - self.x_min), 0) * max((self.y_max - self.y_min), 0)\n",
    "\n",
    "    def iou_with(self, other_box: \"MnistBox\"):\n",
    "        aux_box = MnistBox(\n",
    "            x_min=max(self.x_min, other_box.x_min),\n",
    "            x_max=min(self.x_max, other_box.x_max),\n",
    "            y_min=max(self.y_min, other_box.y_min),\n",
    "            y_max=min(self.y_max, other_box.y_max),\n",
    "        ) \n",
    "        return aux_box.area / (self.area + other_box.area - aux_box.area)\n",
    "\n",
    "\n",
    "class MnistCanvas:\n",
    "\n",
    "    def __init__(\n",
    "        self,\n",
    "        image: np.ndarray,\n",
    "        boxes: List[MnistBox],\n",
    "    ):\n",
    "        self.image = image\n",
    "        self.boxes = boxes\n",
    "\n",
    "    def add_digit(\n",
    "        self,\n",
    "        digit: np.ndarray,\n",
    "        class_nb: int,\n",
    "        x_min: int,\n",
    "        y_min: int,\n",
    "        rotated=None,\n",
    "        iou_threshold=0.1,\n",
    "    ) -> bool:\n",
    "        \"\"\"\n",
    "        Add a digit to an image if it does not overlap with existing boxes\n",
    "        above iou_threshold.\n",
    "        \"\"\"\n",
    "        image_x, image_y = digit.shape\n",
    "        if x_min >= self.image.shape[0] and y_min >= self.image.shape[1]:\n",
    "            raise ValueError('Wrong initial corner box')\n",
    "        new_box_x_min = x_min\n",
    "        new_box_y_min = y_min\n",
    "        new_box_x_max = min(x_min + image_x, self.image.shape[0])\n",
    "        new_box_y_max = min(y_min + image_y, self.image.shape[1])\n",
    "        new_box = MnistBox(\n",
    "            x_min=new_box_x_min,\n",
    "            x_max=new_box_x_max,\n",
    "            y_min=new_box_y_min,\n",
    "            y_max=new_box_y_max,\n",
    "            class_nb=class_nb,\n",
    "            rotated=rotated,\n",
    "        )\n",
    "        old_background = self.image[\n",
    "            new_box_x_min:new_box_x_max,\n",
    "            new_box_y_min:new_box_y_max\n",
    "        ]\n",
    "        for box in self.boxes:\n",
    "            if new_box.iou_with(box) > iou_threshold:\n",
    "                return False\n",
    "        self.image[\n",
    "            new_box_x_min:new_box_x_max,\n",
    "            new_box_y_min:new_box_y_max\n",
    "        ] = np.maximum(old_background, digit)\n",
    "        self.boxes.append(\n",
    "            new_box\n",
    "        ) \n",
    "        return True\n",
    "        \n",
    "    def get_torch_tensor(self) -> torch.Tensor:\n",
    "        np_image = self.image.astype('float32')\n",
    "        np_image = np_image.reshape(\n",
    "            (1, 1, self.image.shape[0], self.image.shape[1])\n",
    "        )\n",
    "        return torch.from_numpy(np_image).to(DEVICE)\n",
    "\n",
    "    @classmethod\n",
    "    def get_empty_of_size(cls, size: Tuple[int, int]):\n",
    "        return cls(\n",
    "            image=np.zeros(size),\n",
    "            boxes=[],\n",
    "        )\n",
    "\n",
    "    def plot(self, boxes: Optional[List[MnistBox]] = None):\n",
    "        fig, ax = plt.subplots()\n",
    "        ax.imshow(self.image)\n",
    "        boxes = boxes or self.boxes\n",
    "        for box in boxes:\n",
    "            box.plot_on_ax(ax)\n",
    "        plt.show()"
   ]
  },
  {
   "cell_type": "markdown",
   "metadata": {
    "id": "NWMxgsgFtlze"
   },
   "source": [
    "Each canvas has 3-6 boxes with randomly selected digits. The digits for training data are from first 10K examples from `MNIST` train data. The digits for test data are selected from first 1K examples from `MNIST` test data. The Dataset is generated using the following functions:"
   ]
  },
  {
   "cell_type": "code",
   "execution_count": 2,
   "metadata": {
    "colab": {
     "base_uri": "https://localhost:8080/"
    },
    "id": "HezSZXw4z-cx",
    "outputId": "5332a55f-3285-4b33-c036-ca5c5b09985b"
   },
   "outputs": [],
   "source": [
    "from keras.datasets import mnist\n",
    "import numpy as np\n",
    "\n",
    "\n",
    "mnist_data = mnist.load_data()\n",
    "(mnist_x_train, mnist_y_train), (mnist_x_test, mnist_y_test) = mnist_data\n",
    "\n",
    "\n",
    "def crop_insignificant_values(digit:np.ndarray, threshold=0.1):\n",
    "    bool_digit = digit > threshold\n",
    "    x_range = bool_digit.max(axis=0)\n",
    "    y_range = bool_digit.max(axis=1)\n",
    "    start_x = (x_range.cumsum() == 0).sum()\n",
    "    end_x = (x_range[::-1].cumsum() == 0).sum()\n",
    "    start_y = (y_range.cumsum() == 0).sum()\n",
    "    end_y = (y_range[::-1].cumsum() == 0).sum()\n",
    "    return digit[start_y:-end_y - 1, start_x:-end_x - 1]\n",
    "\n",
    "\n",
    "TRAIN_DIGITS = [\n",
    "    crop_insignificant_values(digit) / 255.0\n",
    "    for digit_index, digit in enumerate(mnist_x_train[:10000])\n",
    "]\n",
    "TRAIN_CLASSES = mnist_y_train[:10000]\n",
    "\n",
    "TEST_DIGITS = [\n",
    "    crop_insignificant_values(digit) / 255.0\n",
    "    for digit_index, digit in enumerate(mnist_x_test[:1000])\n",
    "]\n",
    "TEST_CLASSES = mnist_y_test[:1000]\n",
    "\n",
    "\n",
    "def get_random_canvas(\n",
    "    digits: Optional[List[np.ndarray]] = None,\n",
    "    classes: Optional[List[int]] = None,\n",
    "    nb_of_digits: Optional[int] = None,\n",
    "    ):\n",
    "    digits = digits if digits is not None else TRAIN_DIGITS\n",
    "    classes = classes if classes is not None else TRAIN_CLASSES\n",
    "    nb_of_digits = nb_of_digits if nb_of_digits is not None else np.random.randint(low=3, high=6 + 1)\n",
    "    new_canvas = MnistCanvas.get_empty_of_size(size=(128, 128))\n",
    "    attempts_done = 0\n",
    "    while attempts_done < nb_of_digits:\n",
    "        current_digit_index = np.random.randint(len(digits))\n",
    "        current_digit_class = classes[current_digit_index]\n",
    "        if current_digit_class not in [1, 2, 3, 4, 5]:\n",
    "            continue\n",
    "        rotate = np.random.random() > 0.5\n",
    "        current_digit = digits[current_digit_index]\n",
    "        if rotate:\n",
    "            current_digit = np.rot90(current_digit)\n",
    "        random_x_min = np.random.randint(0, 128 - current_digit.shape[0] - 3)\n",
    "        random_y_min = np.random.randint(0, 128 - current_digit.shape[1] - 3)\n",
    "        if new_canvas.add_digit(\n",
    "            digit=current_digit,\n",
    "            x_min=random_x_min,\n",
    "            y_min=random_y_min,\n",
    "            class_nb=current_digit_class,\n",
    "            rotated=rotate,\n",
    "        ):\n",
    "            attempts_done += 1\n",
    "    return new_canvas"
   ]
  },
  {
   "cell_type": "markdown",
   "metadata": {
    "id": "5i2OjUEC7eaC"
   },
   "source": [
    "Let us have a look at example canvas (rotated digits have additional *added to description)."
   ]
  },
  {
   "cell_type": "code",
   "execution_count": 3,
   "metadata": {
    "colab": {
     "base_uri": "https://localhost:8080/",
     "height": 268
    },
    "id": "OsLpINOtvhd8",
    "outputId": "421ebd02-1e1e-4a23-f2ae-1062e2b233a4"
   },
   "outputs": [
    {
     "data": {
      "image/png": "[encoded data removed]",
      "text/plain": [
       "<Figure size 432x288 with 1 Axes>"
      ]
     },
     "metadata": {
      "needs_background": "light"
     },
     "output_type": "display_data"
    }
   ],
   "source": [
    "mnist_canvas = get_random_canvas()\n",
    "mnist_canvas.plot()"
   ]
  },
  {
   "cell_type": "markdown",
   "metadata": {
    "id": "4QkpHGiOCnng"
   },
   "source": [
    "Now - let us generate test canvas:"
   ]
  },
  {
   "cell_type": "code",
   "execution_count": 4,
   "metadata": {
    "colab": {
     "base_uri": "https://localhost:8080/",
     "height": 268
    },
    "id": "PV410KSYC-eT",
    "outputId": "bdd5717c-2e04-41c6-dd2a-f47867fbd6d9"
   },
   "outputs": [
    {
     "data": {
      "image/png": "[encoded data removed]",
      "text/plain": [
       "<Figure size 432x288 with 1 Axes>"
      ]
     },
     "metadata": {
      "needs_background": "light"
     },
     "output_type": "display_data"
    }
   ],
   "source": [
    "TEST_CANVAS_SIZE = 256\n",
    "TEST_SEED = 42 # DO NOT CHANGE THIS LINE.\n",
    "\n",
    "np.random.seed(TEST_SEED)\n",
    "\n",
    "TEST_CANVAS = [\n",
    "    get_random_canvas(\n",
    "        digits=TEST_DIGITS,\n",
    "        classes=TEST_CLASSES,\n",
    "    )\n",
    "    for _ in range(TEST_CANVAS_SIZE)\n",
    "]\n",
    "\n",
    "TEST_CANVAS[1].plot()"
   ]
  },
  {
   "cell_type": "markdown",
   "metadata": {
    "id": "OgU2bKyJ3pVh"
   },
   "source": [
    "For training one can either:\n",
    "- generate `TRAIN_CANVAS` similarly to `TEST_CANVAS` creation,\n",
    "- use the fact that `get_random_canvas()` generates a random train canvas and generate training data on-the-fly."
   ]
  },
  {
   "cell_type": "markdown",
   "metadata": {
    "id": "Ri3Jh7GzjZ4W"
   },
   "source": [
    "### Anchor size analysis (2pts)\n",
    "\n",
    "For this task:\n",
    "1. Sample at least 1000 random canvas.\n",
    "2. Analyze the sizes (heights and widths) of the `MnistBox`es from this canvas.\n",
    "3. Select the anchor sizes which will match the problem the best.\n",
    "\n",
    "Selected anchor sizes should be stored in a sensible manner in `ANCHOR_SIZES` list."
   ]
  },
  {
   "cell_type": "code",
   "execution_count": 5,
   "metadata": {
    "id": "KWLTAoFwkEnu"
   },
   "outputs": [],
   "source": [
    "import collections\n",
    "from copy import deepcopy\n",
    "import matplotlib.pyplot as plt\n",
    "import seaborn as sns"
   ]
  },
  {
   "cell_type": "code",
   "execution_count": 6,
   "metadata": {
    "id": "ziAtuYJ0b6sX"
   },
   "outputs": [],
   "source": [
    "k = 5000\n",
    "\n",
    "RANDOM_CANVAS = [\n",
    "    get_random_canvas(\n",
    "        digits=TRAIN_DIGITS,\n",
    "        classes=TRAIN_CLASSES,\n",
    "    )\n",
    "    for _ in range(k)\n",
    "]"
   ]
  },
  {
   "cell_type": "code",
   "execution_count": 7,
   "metadata": {
    "id": "7N9uj4oQb6wu"
   },
   "outputs": [],
   "source": [
    "sizes = []\n",
    "\n",
    "for i in range(k):\n",
    "    for box in RANDOM_CANVAS[i].boxes:\n",
    "        sizes.append((box.x_diff, box.y_diff))"
   ]
  },
  {
   "cell_type": "code",
   "execution_count": 8,
   "metadata": {
    "id": "QrCGMB4YfB5U"
   },
   "outputs": [],
   "source": [
    "from collections import Counter, OrderedDict\n",
    "\n",
    "sizes_count = Counter(sizes)\n",
    "sizes_count = OrderedDict(sorted(\n",
    "    sizes_count.items(), key=lambda x: x[1], reverse=True)\n",
    ")"
   ]
  },
  {
   "cell_type": "code",
   "execution_count": 9,
   "metadata": {
    "id": "yMg0pLHziGTe"
   },
   "outputs": [],
   "source": [
    "xs = np.array(range(len(sizes_count)))\n",
    "x_labels = np.array(list(sizes_count.keys()))\n",
    "ys = np.array(list(sizes_count.values()))"
   ]
  },
  {
   "cell_type": "code",
   "execution_count": 10,
   "metadata": {
    "colab": {
     "base_uri": "https://localhost:8080/",
     "height": 443
    },
    "id": "Wap3ILf6dXLz",
    "outputId": "bd9817dd-5946-4247-f3ed-7c3b72f96318"
   },
   "outputs": [
    {
     "data": {
      "image/png": "[encoded data removed]",
      "text/plain": [
       "<Figure size 1152x432 with 1 Axes>"
      ]
     },
     "metadata": {
      "needs_background": "light"
     },
     "output_type": "display_data"
    }
   ],
   "source": [
    "fig, ax = plt.subplots(figsize=(16, 6))\n",
    "\n",
    "sns.barplot(x=xs, y=ys, ax=ax)\n",
    "ax.set_title('Distribution of size of randomly sampled MNIST boxes', fontsize=14)\n",
    "ax.set_xlabel('size (width x height)', fontsize=12, labelpad=16)\n",
    "ax.set_ylabel('number of occurrences', fontsize=12, labelpad=16)\n",
    "\n",
    "plt.xticks(xs, map(str, x_labels), rotation=45)\n",
    "plt.show()"
   ]
  },
  {
   "cell_type": "markdown",
   "metadata": {
    "id": "ZgmfHhI4nulW"
   },
   "source": [
    "I've chosen the most common anchor box size, since it's clearly dominating - (19, 19)"
   ]
  },
  {
   "cell_type": "code",
   "execution_count": 11,
   "metadata": {
    "colab": {
     "base_uri": "https://localhost:8080/"
    },
    "id": "J2NFpqHzdXOH",
    "outputId": "d6caf302-827e-483b-d763-2dcd1cd290ae"
   },
   "outputs": [
    {
     "name": "stdout",
     "output_type": "stream",
     "text": [
      "ANCHOR_SIZES (width, height): [[19 19]]\n"
     ]
    }
   ],
   "source": [
    "ANCHOR_SIZES = deepcopy(x_labels[:1])\n",
    "print(\"ANCHOR_SIZES (width, height):\", ANCHOR_SIZES)"
   ]
  },
  {
   "cell_type": "markdown",
   "metadata": {
    "id": "_GpJZUkDGJSi"
   },
   "source": [
    "### Model building (2pt)\n",
    "\n",
    "\n",
    "One should build a model for digit detection in $\\texttt{pytorch}$. Model should consist of:\n",
    "\n",
    "#### $\\texttt{backbone}$:\n",
    "\n",
    "We provided you with a backbone model architecture that accepts a `MnistCanvas` instance and output a tensor with shape $(1, 16, 16, 128)$. It should be trained together with the rest of your solution.\n",
    "\n",
    "#### $\\texttt{anchors}$:\n",
    "\n",
    "List of `MnistBox`es where each box:\n",
    "\n",
    "- should have size of one of selected `ANCHOR_SIZES`,\n",
    "- should have center coordinates on canvas of type $\\left(\\left(m + \\frac{1}{2}\\right) * 8, \\left(n + \\frac{1}{2}\\right) * 8\\right)$  for $m, n \\in \\{0, 1, \\dots, 16 - 1\\}$,\n",
    "\n",
    "`MnistBox` with anchor should have an attribute `class_nb` set to `None`.\n",
    "\n",
    "#### $\\texttt{digitClassificationHead}$:\n",
    "\n",
    "$\\texttt{digitClassificationHead}$ should accept backbone output as an input and output `digit_classification_output` tensor of shape $(len(\\texttt{anchors)}, 5)$ where the value $ch_{i, j}$ which is the value of i-th row and j-th column has a property that $sigmoid(ch_{i, j})$ is a probability that i-th anchor from $\\texttt{anchors}$ overlaps significantly with some canvas `GTBox: MnistBox` with a digit of class $j + 1$ (ground truth box).\n",
    "\n",
    "#### $\\texttt{rotationClassificationHead}$:\n",
    "\n",
    "$\\texttt{rotationClassificationHead}$ should accept backbone output as an input and output `rotation_classification_output` tensor of shape $(len(\\texttt{anchors)}, 2)$ where the value $ch_{i, j}$ which is the value of i-th row and j-th column has a property that $sigmoid(ch_{i, j})$ is a probability that i-th anchor from $\\texttt{anchors}$ overlaps significantly with some canvas `GTBox: MnistBox` with a digit which was not rotated when $j = 0$ and was rotated when $j = 1$.\n",
    "\n",
    "#### $\\texttt{boxRegressionHead}$:\n",
    "\n",
    "$\\texttt{boxRegressionHead}$ should accept backbone output as an input and output `box_regression_output` tensor of shape $(len(\\texttt{anchors)}, 4)$ where the value $br_{i}$ which is the value of i-th row has a property that if there is a ground truth digit box $\\texttt{GTBox}$ - significantly overlapping with $\\texttt{anchor}[i]$ then the following properties hold:\n",
    "\n",
    "$$\\texttt{GTBox.x_min} = \\texttt{anchor[i].x_min} + br_{i, 0},$$ \n",
    "$$\\texttt{GTBox.x_max} = \\texttt{anchor[i].x_max} + br_{i, 1},$$ \n",
    "$$\\texttt{GTBox.y_min} = \\texttt{anchor[i].y_min} + br_{i, 2},$$ \n",
    "$$\\texttt{GTBox.y_max} = \\texttt{anchor[i].y_max} + br_{i, 3}.$$ \n",
    "\n",
    "#### *Hint*: be careful with a construction of a head output as a simple reshaping might cause unexpected permutation of anchors.\n",
    "\n",
    "### Model output\n",
    "\n",
    "Model should output `DigitDetectionModelOutput` class defined below.\n",
    "\n",
    "#### Comment on _significant overlap_:\n",
    "\n",
    "The meaning of significant overlap will be described later."
   ]
  },
  {
   "cell_type": "code",
   "execution_count": 12,
   "metadata": {
    "id": "joNcITODkwtp"
   },
   "outputs": [],
   "source": [
    "import torch.nn.functional as F"
   ]
  },
  {
   "cell_type": "code",
   "execution_count": 13,
   "metadata": {
    "id": "Xg7eTdf5yeXe"
   },
   "outputs": [],
   "source": [
    "class DigitClassificationHead(torch.nn.Module):\n",
    "    def __init__(self, n_anchors):\n",
    "        super().__init__()\n",
    "        self.n_anchors = n_anchors\n",
    "        self.anchor_sizes = int(self.n_anchors / (16 * 16))\n",
    "        self.conv1 = nn.Conv2d(128, 128, (3, 3), padding=1, stride=1)\n",
    "        self.conv2 = nn.Conv2d(128, 128, (3, 3), padding=1, stride=1)\n",
    "        self.conv3 = nn.Conv2d(128, self.anchor_sizes * 5, (3, 3), padding=1, stride=1)\n",
    "       \n",
    "    def forward(self, x) -> torch.Tensor:\n",
    "        x = F.relu(self.conv1(x))\n",
    "        x = F.relu(self.conv2(x))\n",
    "        x = self.conv3(x)\n",
    "        x = x.permute(0, 2, 3, 1)\n",
    "        x = x.reshape(self.n_anchors, 5)\n",
    "\n",
    "        return x\n",
    "\n",
    "\n",
    "class RotationClassificationHead(torch.nn.Module):\n",
    "    def __init__(self, n_anchors):\n",
    "        super().__init__()\n",
    "        self.n_anchors = n_anchors\n",
    "        self.anchor_sizes = int(self.n_anchors / (16 * 16))\n",
    "        self.conv1 = nn.Conv2d(128, 128, (3, 3), padding=1, stride=1)\n",
    "        self.conv2 = nn.Conv2d(128, 128, (3, 3), padding=1, stride=1)\n",
    "        self.conv3 = nn.Conv2d(128, self.anchor_sizes * 2, (3, 3), padding=1, stride=1)\n",
    "       \n",
    "    def forward(self, x) -> torch.Tensor:\n",
    "        x = F.relu(self.conv1(x))\n",
    "        x = F.relu(self.conv2(x))\n",
    "        x = self.conv3(x)\n",
    "        x = x.permute(0, 2, 3, 1)\n",
    "        x = x.reshape(self.n_anchors, 2)\n",
    "\n",
    "        return x\n",
    "\n",
    "class BoxRegressionHead(torch.nn.Module):\n",
    "    def __init__(self, n_anchors):\n",
    "        super().__init__()\n",
    "        self.n_anchors = n_anchors\n",
    "        self.anchor_sizes = int(self.n_anchors / (16 * 16))\n",
    "        self.conv1 = nn.Conv2d(128, 128, (3, 3), padding=1, stride=1)\n",
    "        self.conv2 = nn.Conv2d(128, 128, (3, 3), padding=1, stride=1)\n",
    "        self.conv3 = nn.Conv2d(128, self.anchor_sizes * 4, (3, 3), padding=1, stride=1)\n",
    "       \n",
    "    def forward(self, x) -> torch.Tensor:\n",
    "        x = F.relu(self.conv1(x))\n",
    "        x = F.relu(self.conv2(x))\n",
    "        x = self.conv3(x)\n",
    "        x = x.permute(0, 2, 3, 1)\n",
    "        x = x.reshape(self.n_anchors, 4)\n",
    "\n",
    "        return x"
   ]
  },
  {
   "cell_type": "code",
   "execution_count": 14,
   "metadata": {
    "id": "kXco8riNGHhl"
   },
   "outputs": [],
   "source": [
    "from torch import nn\n",
    "\n",
    "\n",
    "class DigitDetectionModelOutput:\n",
    "\n",
    "    def __init__(\n",
    "        self,\n",
    "        anchors: List[MnistBox],\n",
    "        digit_classification_output: torch.Tensor,\n",
    "        rotation_classification_output: torch.Tensor,\n",
    "        box_regression_output: torch.Tensor,\n",
    "    ):\n",
    "        self.anchors = anchors\n",
    "        self.digit_classification_output = digit_classification_output\n",
    "        self.box_regression_output = box_regression_output\n",
    "        self.rotation_classification_output = rotation_classification_output\n",
    "\n",
    "\n",
    "class Backbone(torch.nn.Module):\n",
    "    def __init__(self):\n",
    "        super().__init__()\n",
    "        self.output_shape = (16, 16, 128)\n",
    "        self.first_block = torch.nn.Sequential(\n",
    "            nn.Conv2d(1, 16, (3, 3), padding=1),\n",
    "            nn.ReLU(),\n",
    "            nn.Conv2d(16, 32, (3, 3), padding=1),\n",
    "            nn.ReLU(),\n",
    "            nn.MaxPool2d(2, 2),\n",
    "        )\n",
    "        self.blocks = torch.nn.ModuleList(\n",
    "            [torch.nn.Sequential(*[\n",
    "                nn.Conv2d(16 * (2 ** i), 16 * (2 ** (i + 1)), (3, 3), padding=1),\n",
    "                nn.ReLU(),\n",
    "                nn.MaxPool2d(2, 2),\n",
    "              ]) for i in range(1, 3)\n",
    "            ]\n",
    "        )\n",
    "\n",
    "    def forward(self, x: MnistCanvas) -> torch.Tensor:\n",
    "        image = torch.Tensor(x.image).to(DEVICE).view(1, 1, 128, 128)\n",
    "        aux = self.first_block(image)\n",
    "        for block in self.blocks:\n",
    "            aux = block(aux)\n",
    "        return aux\n",
    "\n",
    "\n",
    "def centered_box_coords(x, y, width, height):\n",
    "    width /= 2\n",
    "    height /= 2\n",
    "    x_min, x_max = x - width, x + width\n",
    "    y_min, y_max = y - height, y + height\n",
    "\n",
    "    return x_min, x_max, y_min, y_max\n",
    "\n",
    "\n",
    "class DigitDetectionModel(torch.nn.Module):\n",
    "    def __init__(self, anchor_sizes):\n",
    "        super().__init__()\n",
    "        self.anchor_sizes = anchor_sizes\n",
    "        self.anchors = []\n",
    "        self.create_anchors()\n",
    "\n",
    "        self.backbone = Backbone().to(DEVICE)\n",
    "        self.digit_classification_head = DigitClassificationHead(\n",
    "            len(self.anchors)\n",
    "            ).to(DEVICE)\n",
    "        self.rotation_classification_head = RotationClassificationHead(\n",
    "            len(self.anchors)\n",
    "            ).to(DEVICE)\n",
    "        self.box_regression_head = BoxRegressionHead(\n",
    "            len(self.anchors)\n",
    "            ).to(DEVICE)\n",
    "    \n",
    "    def create_anchors(self):\n",
    "        for w, h in self.anchor_sizes:\n",
    "            for x in range(16):\n",
    "                for y in range(16):\n",
    "                    x_min, x_max, y_min, y_max = centered_box_coords(\n",
    "                        (x + 0.5) * 8, (y + 0.5) * 8, w, h\n",
    "                    )\n",
    "                    self.anchors.append(\n",
    "                        MnistBox(\n",
    "                            x_min=x_min,\n",
    "                            x_max=x_max,\n",
    "                            y_min=y_min,\n",
    "                            y_max=y_max,\n",
    "                            class_nb=None,)\n",
    "                    )\n",
    "\n",
    "    def forward(self, x: MnistCanvas) -> DigitDetectionModelOutput:\n",
    "        aux = self.backbone(x)\n",
    "        digit_classification_output = self.digit_classification_head(aux)\n",
    "        rotation_classification_output = self.rotation_classification_head(aux)\n",
    "        box_regression_output = self.box_regression_head(aux)\n",
    "\n",
    "        return DigitDetectionModelOutput(\n",
    "            anchors=self.anchors,\n",
    "            digit_classification_output=digit_classification_output,\n",
    "            rotation_classification_output=rotation_classification_output,\n",
    "            box_regression_output=box_regression_output\n",
    "        )"
   ]
  },
  {
   "cell_type": "markdown",
   "metadata": {
    "id": "hnZu3sdhTfTJ"
   },
   "source": [
    "### Significant overlap (4pt)\n",
    "\n",
    "In order to manage definition of a _significant overlap_ student should implement the `TargetDecoder`. `TargetDecoder` have two methods:\n",
    "\n",
    "### - `get_targets`\n",
    "\n",
    "This method accepts a `canvas: MnistCanvas` with boxes later refered to as `gt_boxes: List[MnistBox]`, `anchors: List[MnistBox]` of model anchors and `iou_threshold: float`. Its output should be `DigitDetectionModelTarget` instance with the following attributes:\n",
    "\n",
    "- `digit_classification_target` - a tensor of shape $(len(anchors), 5)$,\n",
    "- `rotation_classification_target` - a tensor of shape $(len(anchors), 2)$\n",
    "- `box_regression_target` - a tensor of shape $(len(anchors), 4)$,\n",
    "- `matched_anchors` - a list of indices anchors matched (see definition below).\n",
    "\n",
    "The output attributes should be computed in a following manner: \n",
    "\n",
    "1. All of the outputs of the output tensors should be `0` except the case presented in the point 2.\n",
    "1. if for anchor `anchors[i]` there exist at least one `gt_box` from `gt_boxes` with `iou` overlap greater than `iou_threshold` then let `gt_best` be the one with the greatest `iou` overlap (ties resolved randomly). Then `box_regression_target` should encode the bounding box correction, namely:\n",
    "\n",
    "$$\\texttt{box_regression_target}[i, 0] = \\texttt{gt_best.x_min} - \\texttt{anchor[i].x_min}$$ \n",
    "$$\\texttt{box_regression_target}[i, 1] = \\texttt{gt_best.x_max} - \\texttt{anchor[i].x_max}$$ \n",
    "$$\\texttt{box_regression_target}[i, 2] = \\texttt{gt_best.y_min} - \\texttt{anchor[i].y_min}$$ \n",
    "$$\\texttt{box_regression_target}[i, 3] = \\texttt{gt_best.y_max} - \\texttt{anchor[i].y_max}$$,\n",
    "\n",
    "`digit_classification_target` should encode the class of matched `gt_best`, namely:\n",
    "\n",
    "$$\\texttt{digit_classification_target}[i, \\texttt{gt_best.class_nb} - 1] = 1.$$\n",
    "\n",
    "`rotation_classification_target` should encode if matched `gt_best` has a digit which was rotated, namely:\n",
    "\n",
    "$$\\texttt{rotation_classification_target}[i, 0] = 1,$$\n",
    "\n",
    "if `gt_best` digit was not rotated and:\n",
    "\n",
    "$$\\texttt{rotation_classification_target}[i, 1] = 1,$$\n",
    "\n",
    "if `gt_best` digit was rotated (this might be interpreted as a one-hot encoding if a digit was rotated).\n",
    "\n",
    "Moreover - the `anchor[i]` is considered to be _matched_ with some ground truth box so index `i` should be in `matched_anchors` list.\n",
    "\n",
    "The output should be packed into `DigitDetectionModelTarget` class defined below.\n",
    "\n",
    "_Hint_: note that there might be cases when no anchor is matched. What does it mean about your anchors?\n",
    "\n",
    "### - `get_predictions`\n",
    "\n",
    "This method should decode the `DigitDetectionModelOutput` to set of final boxes\n",
    "predictions. We leave the way of selecting the predictions to students.\n",
    "\n",
    "_HINT_: we definitely advise to use `torchvision.ops.nms` function.\n",
    "\n"
   ]
  },
  {
   "cell_type": "code",
   "execution_count": 15,
   "metadata": {
    "id": "WWcthFZQquNo"
   },
   "outputs": [],
   "source": [
    "from torchvision.ops import box_iou, nms\n",
    "\n",
    "\n",
    "class DigitDetectionModelTarget:\n",
    "\n",
    "    def __init__(\n",
    "        self,\n",
    "        digit_classification_target: torch.Tensor,\n",
    "        rotation_classification_target: torch.Tensor,\n",
    "        box_regression_target: torch.Tensor,\n",
    "        matched_anchors: List[int],\n",
    "    ):\n",
    "        self.digit_classification_target = digit_classification_target\n",
    "        self.rotation_classification_target = rotation_classification_target\n",
    "        self.box_regression_target = box_regression_target\n",
    "        self.matched_anchors = matched_anchors\n",
    "\n",
    "\n",
    "class TargetDecoder:\n",
    "\n",
    "    def get_targets(\n",
    "        self,\n",
    "        canvas: MnistCanvas,\n",
    "        anchors: List[MnistBox],\n",
    "        iou_threshold: float=0.2,\n",
    "        nb_of_classes: int = 5,\n",
    "    ) -> DigitDetectionModelTarget:\n",
    "        digit_classification_target = torch.zeros(\n",
    "            len(anchors), nb_of_classes).to(DEVICE)\n",
    "        rotation_classification_target = torch.zeros(len(anchors), 2).to(DEVICE)\n",
    "        box_regression_target = torch.zeros(len(anchors), 4).to(DEVICE)\n",
    "        matched_anchors = []\n",
    "\n",
    "        for i in range(len(anchors)):\n",
    "            gt_boxes_iou = torch.tensor(\n",
    "                [anchors[i].iou_with(box) for box in canvas.boxes]\n",
    "            )\n",
    "            argmax = torch.argmax(gt_boxes_iou)\n",
    "            iou_best = gt_boxes_iou[argmax].item()\n",
    "            gt_best = canvas.boxes[argmax]\n",
    "\n",
    "            if iou_best > iou_threshold:\n",
    "                matched_anchors.append(i)\n",
    "                digit_classification_target[i, gt_best.class_nb - 1] = 1\n",
    "\n",
    "                if gt_best.rotated:\n",
    "                    rotation_classification_target[i, 1] = 1\n",
    "                else:\n",
    "                    rotation_classification_target[i, 0] = 1\n",
    "                \n",
    "                box_regression_target[i, 0] = gt_best.x_min - anchors[i].x_min\n",
    "                box_regression_target[i, 1] = gt_best.x_max - anchors[i].x_max\n",
    "                box_regression_target[i, 2] = gt_best.y_min - anchors[i].y_min\n",
    "                box_regression_target[i, 3] = gt_best.y_max - anchors[i].y_max\n",
    "\n",
    "        return DigitDetectionModelTarget(\n",
    "                    digit_classification_target,\n",
    "                    rotation_classification_target,\n",
    "                    box_regression_target,\n",
    "                    matched_anchors,\n",
    "        )\n",
    "\n",
    "\n",
    "    def get_predictions(\n",
    "        self,\n",
    "        model_output: DigitDetectionModelOutput,\n",
    "    ) -> List[MnistBox]:\n",
    "        digit_classification_output = model_output.digit_classification_output.double()\n",
    "        box_regression_output = model_output.box_regression_output.double()\n",
    "        # apply sigmoid, since there was no activation on last layer\n",
    "        rotation_classification_output = torch.argmax(\n",
    "            torch.sigmoid(model_output.rotation_classification_output), dim=1\n",
    "        )\n",
    "        \n",
    "        anchors = deepcopy(model_output.anchors)\n",
    "        \n",
    "        for i in range(len(anchors)):\n",
    "            anchors[i].x_min += box_regression_output[i, 0]\n",
    "            anchors[i].x_max += box_regression_output[i, 1]\n",
    "            anchors[i].y_min += box_regression_output[i, 2]\n",
    "            anchors[i].y_max += box_regression_output[i, 3]\n",
    "\n",
    "        anchors_temp = torch.tensor([\n",
    "            [box.x_min, box.y_min, box.x_max, box.y_max] for i, box in enumerate(anchors)\n",
    "        ]).to(DEVICE)\n",
    "        \n",
    "        # apply sigmoid, since there was no activation on last layer\n",
    "        scores = torch.sigmoid(digit_classification_output)\n",
    "        best_idx = torch.argmax(scores, dim=1)\n",
    "        best_scores = torch.tensor([scores[i, best_idx[i]] for i in range(len(best_idx))])\n",
    "        # set iou_threshold to 0.1, since iou(gt_boxes) <= 0.1\n",
    "        chosen_idx = nms(anchors_temp, best_scores, iou_threshold=0.1)\n",
    "        \n",
    "        final_idx = []\n",
    "        for i in chosen_idx:\n",
    "            # choose only high scores\n",
    "            if best_scores[i] >= 0.2:\n",
    "                anchors[i].class_nb = best_idx[i].item() + 1\n",
    "                anchors[i].rotated = bool(rotation_classification_output[i].item())\n",
    "                final_idx.append(i)\n",
    "\n",
    "        return [anchors[i] for i in final_idx]"
   ]
  },
  {
   "cell_type": "markdown",
   "metadata": {
    "id": "xA1Nvz6jagyP"
   },
   "source": [
    "### Metrics (4pt)\n",
    "\n",
    "## Retina Loss\n",
    "As a loss function one should implement the variant of Retina Loss. It should be computed in a following manner:\n",
    "\n",
    "`compute_loss`: \n",
    "\n",
    "This method accepts:\n",
    "- `DigitDetectionModelTarget`,\n",
    "- `DigitDetectionModelOutput`,\n",
    "\n",
    "and computes a loss which is a sum of a:\n",
    "- `torch.nn.SmoothL1Loss` between boxes predictions and targets averaged only over matched anchors,\n",
    "- `torchvision.ops.sigmoid_focal_loss` between digit predictions and targets,\n",
    "- `torchvision.ops.sigmoid_focal_loss` between rotation predictions and targets,\n",
    "\n",
    "One can either use `torch` default parameters for this losses or try to tune them.\n",
    "\n",
    "If there are no matched anchors - a loss should return `None`. Remember to handle this case separately in your training loop. What does the occurence of this case means about your anchors?\n",
    "\n",
    "## Digit Accuracy\n",
    "\n",
    "This method shoud accept `canvas: MnistCanvas` and `predicted_boxes: List[MnistBox]` obtained using `TargetDecoder.get_predictions` method and output whether there is a direct matching between boxes from `MnistCanvas` and predictions. There is a direct matching if:\n",
    "\n",
    "- for all boxes from `canvas`, there exist precisely one box from `predicted_boxes` with a matching class  and `iou` overlap greater than `0.5`,\n",
    "- the number of `canvas` boxes match `len(predicted_boxes)`.\n",
    "\n",
    "The model shoud output `1` if there is a matching and `0` otherwise.\n"
   ]
  },
  {
   "cell_type": "code",
   "execution_count": 16,
   "metadata": {
    "id": "rffXn9CQwVu4"
   },
   "outputs": [],
   "source": [
    "import torch\n",
    "import torchvision\n",
    "from torchvision.ops import sigmoid_focal_loss\n",
    "\n",
    "\n",
    "class RetinaLoss:\n",
    "\n",
    "    def compute_loss(\n",
    "        self,\n",
    "        model_output: DigitDetectionModelOutput,\n",
    "        model_target: DigitDetectionModelTarget,\n",
    "    ) -> Optional[torch.Tensor]:\n",
    "        if not model_target.matched_anchors:\n",
    "            return None\n",
    "\n",
    "        digit_detection_loss = sigmoid_focal_loss(\n",
    "            inputs=model_output.digit_classification_output,\n",
    "            targets=model_target.digit_classification_target,\n",
    "            reduction='mean',\n",
    "        )\n",
    "        \n",
    "        rotation_loss = sigmoid_focal_loss(\n",
    "            inputs=model_output.rotation_classification_output,\n",
    "            targets=model_target.rotation_classification_target,\n",
    "            reduction='mean',\n",
    "        )\n",
    "        \n",
    "        matched_anchors = np.array(model_target.matched_anchors)\n",
    "        predicted_boxes = model_output.box_regression_output[\n",
    "            matched_anchors\n",
    "        ]\n",
    "        target_boxes = model_target.box_regression_target[\n",
    "            matched_anchors\n",
    "        ]\n",
    "        boxes_loss = nn.SmoothL1Loss()(\n",
    "            predicted_boxes, target_boxes\n",
    "        )\n",
    "        # scale box regression loss, since it's dominating\n",
    "        return digit_detection_loss + rotation_loss + (0.1 * boxes_loss)\n",
    "        \n",
    "\n",
    "\n",
    "class DigitAccuracy:\n",
    "\n",
    "    def compute_metric(\n",
    "        self,\n",
    "        predicted_boxes: List[MnistBox],\n",
    "        canvas: MnistCanvas,\n",
    "    ):\n",
    "        if len(canvas.boxes) != len(predicted_boxes):\n",
    "            return 0\n",
    "        \n",
    "        all_matched = []\n",
    "        for box1 in canvas.boxes:\n",
    "            matched = []\n",
    "            for i, box2 in enumerate(predicted_boxes):\n",
    "                iou = box1.iou_with(box2).item()\n",
    "                if iou > 0.5 and box1.class_nb == box2.class_nb and box1.rotated == box2.rotated:\n",
    "                    if i not in all_matched:\n",
    "                        matched.append(i)\n",
    "                        all_matched.append(i)\n",
    "                    # when anchor was matched to many gt boxes\n",
    "                    else:\n",
    "                        return 0\n",
    "                # if there is no 1:1 relationship between gt boxes and predicted boxes\n",
    "                if len(matched) > 1:\n",
    "                    return 0\n",
    "            \n",
    "            if len(matched) == 0:\n",
    "                return 0\n",
    "        \n",
    "        return 1"
   ]
  },
  {
   "cell_type": "markdown",
   "metadata": {
    "id": "15n5w-hhvRbS"
   },
   "source": [
    "### Train your model (4pt)\n",
    "\n",
    "One should use all classes defined above to train the model.\n",
    "\n",
    "A passing threshold is `10%` of a `DigitAccuracy` on a `TEST_CANVAS` data.\n",
    "\n",
    "Plot example results of matched and mismatched predictions (2pt).\n",
    "\n",
    "**Hint:** Training can take a while to achieve the expected accuracy. It is normal that for many epochs at the beginning accuracy is constantly $0$. Do not worry as long as the loss is on average decreasing across epochs.\n",
    "\n",
    "Have fun!"
   ]
  },
  {
   "cell_type": "code",
   "execution_count": 26,
   "metadata": {},
   "outputs": [],
   "source": [
    "def train(model, optimizer, batch_size=500, train_digits=TRAIN_DIGITS, train_classes=TRAIN_CLASSES):\n",
    "    train_loss, train_acc = [], []\n",
    "    model.train()\n",
    "    \n",
    "    for i in range(batch_size):\n",
    "        train_canvas = get_random_canvas(train_digits, train_classes)\n",
    "        optimizer.zero_grad()\n",
    "        model_output = model(train_canvas)\n",
    "        model_target = target_decoder.get_targets(\n",
    "            train_canvas, model.anchors, iou_threshold=0.2\n",
    "        )\n",
    "        predicted_boxes = target_decoder.get_predictions(model_output)\n",
    "        train_acc.append(digit_acc.compute_metric(predicted_boxes, train_canvas))\n",
    "        loss = retina_loss.compute_loss(model_output, model_target)\n",
    "        if loss is not None:\n",
    "            loss.backward()\n",
    "            optimizer.step()\n",
    "            train_loss.append(loss.item())\n",
    "    \n",
    "    return np.mean(train_loss), np.mean(train_acc)"
   ]
  },
  {
   "cell_type": "code",
   "execution_count": 27,
   "metadata": {},
   "outputs": [],
   "source": [
    "def test(model, test_set):\n",
    "    test_loss, test_acc = [], []\n",
    "    model.eval()\n",
    "\n",
    "    with torch.no_grad():\n",
    "        for test_canvas in test_set:\n",
    "            model_output = model(test_canvas)\n",
    "            model_target = target_decoder.get_targets(\n",
    "                test_canvas, model.anchors, iou_threshold=0.2\n",
    "            )\n",
    "            predicted_boxes = target_decoder.get_predictions(model_output)\n",
    "            test_acc.append(digit_acc.compute_metric(predicted_boxes, test_canvas))\n",
    "            loss = retina_loss.compute_loss(model_output, model_target)\n",
    "            if loss is not None:\n",
    "                test_loss.append(loss.item())\n",
    "\n",
    "    return np.mean(test_loss), np.mean(test_acc)"
   ]
  },
  {
   "cell_type": "code",
   "execution_count": 28,
   "metadata": {},
   "outputs": [],
   "source": [
    "torch.manual_seed(256)\n",
    "model = DigitDetectionModel(ANCHOR_SIZES).to(DEVICE)\n",
    "target_decoder = TargetDecoder()\n",
    "digit_acc = DigitAccuracy()\n",
    "optimizer = torch.optim.Adam(model.parameters(), lr=1e-3)\n",
    "retina_loss = RetinaLoss()"
   ]
  },
  {
   "cell_type": "code",
   "execution_count": 29,
   "metadata": {},
   "outputs": [
    {
     "name": "stdout",
     "output_type": "stream",
     "text": [
      "Epoch 0, train loss 0.177948, train acc 0.0000, test_loss 0.113421, test acc 0.0078\n",
      "Epoch 1, train loss 0.088498, train acc 0.0200\n",
      "Epoch 2, train loss 0.071157, train acc 0.0480\n",
      "Epoch 3, train loss 0.059882, train acc 0.1440\n",
      "Epoch 4, train loss 0.050948, train acc 0.2100\n",
      "Epoch 5, train loss 0.046462, train acc 0.3060\n",
      "Epoch 6, train loss 0.041194, train acc 0.4420\n",
      "Epoch 7, train loss 0.038778, train acc 0.4620\n",
      "Epoch 8, train loss 0.035008, train acc 0.5240\n",
      "Epoch 9, train loss 0.035429, train acc 0.5240\n",
      "Epoch 10, train loss 0.030000, train acc 0.6220, test_loss 0.033347, test acc 0.4531\n",
      "Epoch 11, train loss 0.032387, train acc 0.5500\n",
      "Epoch 12, train loss 0.030594, train acc 0.6140\n",
      "Epoch 13, train loss 0.028276, train acc 0.6500\n",
      "Epoch 14, train loss 0.028794, train acc 0.6100\n",
      "Epoch 15, train loss 0.027022, train acc 0.6540\n",
      "Epoch 16, train loss 0.027213, train acc 0.6800\n",
      "Epoch 17, train loss 0.026066, train acc 0.6700\n",
      "Epoch 18, train loss 0.026569, train acc 0.6560\n",
      "Epoch 19, train loss 0.024235, train acc 0.6900\n",
      "Epoch 20, train loss 0.023482, train acc 0.6860, test_loss 0.024133, test acc 0.6094\n",
      "Epoch 21, train loss 0.022892, train acc 0.6640\n",
      "Epoch 22, train loss 0.023418, train acc 0.6840\n",
      "Epoch 23, train loss 0.020558, train acc 0.7140\n",
      "Epoch 24, train loss 0.021149, train acc 0.7080\n",
      "Epoch 25, train loss 0.021287, train acc 0.7060\n",
      "Epoch 26, train loss 0.022111, train acc 0.7160\n",
      "Epoch 27, train loss 0.020905, train acc 0.7220\n",
      "Epoch 28, train loss 0.020663, train acc 0.6800\n",
      "Epoch 29, train loss 0.022163, train acc 0.6960\n",
      "Epoch 30, train loss 0.021041, train acc 0.7240, test_loss 0.022537, test acc 0.6875\n",
      "Epoch 31, train loss 0.019351, train acc 0.7020\n",
      "Epoch 32, train loss 0.018392, train acc 0.7380\n",
      "Epoch 33, train loss 0.019649, train acc 0.7180\n",
      "Epoch 34, train loss 0.019511, train acc 0.7500\n",
      "Epoch 35, train loss 0.018959, train acc 0.7520\n",
      "Epoch 36, train loss 0.019694, train acc 0.7000\n",
      "Epoch 37, train loss 0.018301, train acc 0.7140\n",
      "Epoch 38, train loss 0.018935, train acc 0.6880\n",
      "Epoch 39, train loss 0.018550, train acc 0.7360\n",
      "Epoch 40, train loss 0.018129, train acc 0.7120, test_loss 0.018675, test acc 0.7031\n",
      "Epoch 41, train loss 0.017471, train acc 0.7500\n",
      "Epoch 42, train loss 0.018324, train acc 0.7360\n",
      "Epoch 43, train loss 0.018895, train acc 0.7120\n",
      "Epoch 44, train loss 0.017063, train acc 0.7420\n",
      "Epoch 45, train loss 0.017081, train acc 0.7580\n",
      "Epoch 46, train loss 0.016937, train acc 0.7800\n",
      "Epoch 47, train loss 0.016972, train acc 0.7780\n",
      "Epoch 48, train loss 0.017136, train acc 0.7160\n",
      "Epoch 49, train loss 0.016580, train acc 0.7340\n",
      "Epoch 50, train loss 0.017869, train acc 0.7460, test_loss 0.018289, test acc 0.6445\n",
      "Epoch 51, train loss 0.017089, train acc 0.7280\n",
      "Epoch 52, train loss 0.017456, train acc 0.7160\n",
      "Epoch 53, train loss 0.018665, train acc 0.7400\n",
      "Epoch 54, train loss 0.016243, train acc 0.7280\n",
      "Epoch 55, train loss 0.018222, train acc 0.7300\n",
      "Epoch 56, train loss 0.017352, train acc 0.7500\n",
      "Epoch 57, train loss 0.016523, train acc 0.7520\n",
      "Epoch 58, train loss 0.015445, train acc 0.7620\n",
      "Epoch 59, train loss 0.017147, train acc 0.7480\n",
      "Epoch 60, train loss 0.015723, train acc 0.7540, test_loss 0.015885, test acc 0.7227\n"
     ]
    }
   ],
   "source": [
    "train_losses, train_accs, test_losses, test_accs = [], [], [], []\n",
    "for epoch in range(61):\n",
    "    train_loss, train_acc = train(model, optimizer)\n",
    "    train_losses.append(train_loss)\n",
    "    train_accs.append(train_acc)\n",
    "    \n",
    "    if not epoch % 10:\n",
    "        test_loss, test_acc = test(model, TEST_CANVAS)\n",
    "        test_losses.append(test_loss)\n",
    "        test_accs.append(test_acc)\n",
    "        print((f'Epoch {epoch}, train loss {train_loss:.6f}, train acc {train_acc:.4f}, '\n",
    "               f'test_loss {test_loss:.6f}, test acc {test_acc:.4f}'))\n",
    "    else:\n",
    "        print(f'Epoch {epoch}, train loss {train_loss:.6f}, train acc {train_acc:.4f}')"
   ]
  },
  {
   "cell_type": "markdown",
   "metadata": {},
   "source": [
    "### Report\n",
    "\n",
    "Model achieved final accuracy of 72\\% on test set after 60 epochs of training on CPU. Test loss indicates no overfitting."
   ]
  },
  {
   "cell_type": "code",
   "execution_count": 54,
   "metadata": {},
   "outputs": [
    {
     "data": {
      "image/png": "[encoded data removed]",
      "text/plain": [
       "<Figure size 864x288 with 2 Axes>"
      ]
     },
     "metadata": {
      "needs_background": "light"
     },
     "output_type": "display_data"
    }
   ],
   "source": [
    "fig, (ax1, ax2) = plt.subplots(1, 2, figsize=(12, 4))\n",
    "\n",
    "ax1.plot(train_accs, 'o', c='deepskyblue')\n",
    "ax1.set_ylabel('acc')\n",
    "ax1.set_xlabel('epoch')\n",
    "ax1.set_title('train set')\n",
    "ax1.set_ylim(0, 0.9)\n",
    "\n",
    "ax2.plot(test_accs, 'o', c='orange')\n",
    "ax2.set_ylabel('acc')\n",
    "ax2.set_xlabel('epoch')\n",
    "ax2.set_xticks(range(0, 7))\n",
    "ax2.set_xticklabels([str(epoch) for epoch in range(0, 61, 10)])\n",
    "ax2.set_title('test set')\n",
    "ax2.set_ylim(0, 0.9)\n",
    "\n",
    "plt.suptitle('Accuracy')\n",
    "plt.show()"
   ]
  },
  {
   "cell_type": "code",
   "execution_count": 57,
   "metadata": {},
   "outputs": [
    {
     "data": {
      "image/png": "[encoded data removed]",
      "text/plain": [
       "<Figure size 864x288 with 2 Axes>"
      ]
     },
     "metadata": {
      "needs_background": "light"
     },
     "output_type": "display_data"
    }
   ],
   "source": [
    "fig, (ax1, ax2) = plt.subplots(1, 2, figsize=(12, 4))\n",
    "\n",
    "ax1.plot(train_losses, c='deepskyblue')\n",
    "ax1.set_ylabel('loss')\n",
    "ax1.set_xlabel('epoch')\n",
    "ax1.set_title('train set')\n",
    "ax1.set_ylim(0, 0.2)\n",
    "\n",
    "ax2.plot(test_losses, c='orange')\n",
    "ax2.set_ylabel('loss')\n",
    "ax2.set_xlabel('epoch')\n",
    "ax2.set_xticks(range(0, 7))\n",
    "ax2.set_xticklabels([str(epoch) for epoch in range(0, 61, 10)])\n",
    "ax2.set_title('test set')\n",
    "ax2.set_ylim(0, 0.2)\n",
    "\n",
    "plt.suptitle('Loss')\n",
    "plt.show()"
   ]
  },
  {
   "cell_type": "markdown",
   "metadata": {},
   "source": [
    "#### Examples of matched and mismatched predictions"
   ]
  },
  {
   "cell_type": "code",
   "execution_count": 58,
   "metadata": {},
   "outputs": [],
   "source": [
    "matches, mismatches = [], []"
   ]
  },
  {
   "cell_type": "code",
   "execution_count": 59,
   "metadata": {},
   "outputs": [],
   "source": [
    "model.eval()\n",
    "\n",
    "with torch.no_grad():\n",
    "    for k in range(len(TEST_CANVAS)):\n",
    "        test_canvas = TEST_CANVAS[k]\n",
    "        model_output = model(test_canvas)\n",
    "        model_target = target_decoder.get_targets(\n",
    "            test_canvas, model.anchors, iou_threshold=0.2\n",
    "        )\n",
    "        predicted_boxes = target_decoder.get_predictions(model_output)\n",
    "        acc = digit_acc.compute_metric(predicted_boxes, test_canvas)\n",
    "        test_canvas2 = deepcopy(test_canvas)\n",
    "        test_canvas2.boxes = predicted_boxes\n",
    "        if acc == 1:\n",
    "            matches.append(test_canvas2)\n",
    "        else:\n",
    "            mismatches.append(test_canvas2)\n",
    "            \n",
    "        if len(matches) > 4 and len(mismatches) > 4:\n",
    "            break"
   ]
  },
  {
   "cell_type": "code",
   "execution_count": 61,
   "metadata": {
    "scrolled": false
   },
   "outputs": [
    {
     "data": {
      "image/png": "[encoded data removed]",
      "text/plain": [
       "<Figure size 432x288 with 1 Axes>"
      ]
     },
     "metadata": {
      "needs_background": "light"
     },
     "output_type": "display_data"
    },
    {
     "data": {
      "image/png": "[encoded data removed]",
      "text/plain": [
       "<Figure size 432x288 with 1 Axes>"
      ]
     },
     "metadata": {
      "needs_background": "light"
     },
     "output_type": "display_data"
    },
    {
     "data": {
      "image/png": "[encoded data removed]",
      "text/plain": [
       "<Figure size 432x288 with 1 Axes>"
      ]
     },
     "metadata": {
      "needs_background": "light"
     },
     "output_type": "display_data"
    },
    {
     "data": {
      "image/png": "[encoded data removed]",
      "text/plain": [
       "<Figure size 432x288 with 1 Axes>"
      ]
     },
     "metadata": {
      "needs_background": "light"
     },
     "output_type": "display_data"
    }
   ],
   "source": [
    "for match in matches[:4]:\n",
    "    match.plot()"
   ]
  },
  {
   "cell_type": "code",
   "execution_count": 62,
   "metadata": {},
   "outputs": [
    {
     "data": {
      "image/png": "[encoded data removed]",
      "text/plain": [
       "<Figure size 432x288 with 1 Axes>"
      ]
     },
     "metadata": {
      "needs_background": "light"
     },
     "output_type": "display_data"
    },
    {
     "data": {
      "image/png": "[encoded data removed]",
      "text/plain": [
       "<Figure size 432x288 with 1 Axes>"
      ]
     },
     "metadata": {
      "needs_background": "light"
     },
     "output_type": "display_data"
    },
    {
     "data": {
      "image/png": "[encoded data removed]",
      "text/plain": [
       "<Figure size 432x288 with 1 Axes>"
      ]
     },
     "metadata": {
      "needs_background": "light"
     },
     "output_type": "display_data"
    },
    {
     "data": {
      "image/png": "[encoded data removed]",
      "text/plain": [
       "<Figure size 432x288 with 1 Axes>"
      ]
     },
     "metadata": {
      "needs_background": "light"
     },
     "output_type": "display_data"
    }
   ],
   "source": [
    "for mismatch in mismatches[:4]:\n",
    "    mismatch.plot()"
   ]
  },
  {
   "cell_type": "markdown",
   "metadata": {},
   "source": [
    "All mismatched examples struggled to detect ones, which could suggest that anchors of size (19, 19) can take a while to learn to detect \"narrow\" numbers."
   ]
  },
  {
   "cell_type": "markdown",
   "metadata": {},
   "source": [
    "#### Other findings\n",
    "\n",
    "1. Model learns to detect anchor box detection very quickly, which is probably a result of no background on canvas.\n",
    "2. When loss is not scaled, regression loss dominates, which leads to good anchor box predictions, but bad rotation and digit classifications. In order to overcome this, I downscaled regression loss, which helped my model to focus on all three tasks.\n",
    "3. Using pre-defined train set of size 1000 lead to overfitting. That issue could be resolved using larger train set size, but instead I decided to draw new example each time.\n",
    "4. One anchor size was enough, what is probably caused by the fact that all digits had similar sizes."
   ]
  },
  {
   "cell_type": "code",
   "execution_count": null,
   "metadata": {},
   "outputs": [],
   "source": []
  }
 ],
 "metadata": {
  "colab": {
   "collapsed_sections": [],
   "name": "GSN 2021/22 Assignment 2: RetinaMNIST with rotations",
   "provenance": []
  },
  "kernelspec": {
   "display_name": "Python 3 (ipykernel)",
   "language": "python",
   "name": "python3"
  },
  "language_info": {
   "codemirror_mode": {
    "name": "ipython",
    "version": 3
   },
   "file_extension": ".py",
   "mimetype": "text/x-python",
   "name": "python",
   "nbconvert_exporter": "python",
   "pygments_lexer": "ipython3",
   "version": "3.8.8"
  }
 },
 "nbformat": 4,
 "nbformat_minor": 1
}
